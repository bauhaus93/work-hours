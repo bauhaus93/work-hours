{
 "cells": [
  {
   "cell_type": "code",
   "execution_count": null,
   "id": "20c8c215-0655-4f8b-9571-b25b2a004610",
   "metadata": {
    "editable": true,
    "scrolled": true,
    "slideshow": {
     "slide_type": ""
    },
    "tags": []
   },
   "outputs": [],
   "source": [
    "from IPython.display import display, Markdown\n",
    "from attendance import get_attendance_daily, get_attendance_weekly\n",
    "\n",
    "def dm(md):\n",
    "    return display(Markdown(md))\n",
    "\n",
    "def gradient_color(data):\n",
    "   return [f\"background-color: {'#AA0000' if v < 0 else 'green'}\" for v in data]\n",
    "        \n",
    "def pretty(styler):\n",
    "    styler.set_caption(\"Attendances\")\n",
    "    styler.format(precision=1)\n",
    "    styler.apply(gradient_color, subset=\"Delta\")\n",
    "    return styler\n",
    "\n",
    "df = get_attendance_daily()\n",
    "df_cw = get_attendance_weekly()\n",
    "total_hours = df[\"Worked Hours\"].sum().round(2)\n",
    "delta_hours = df[\"Delta\"].sum().round(2)\n",
    "dm(\"# Hours\")\n",
    "dm(f\"## Total Hours: {total_hours}\")\n",
    "dm(f\"## Delta Hours: {delta_hours}\")\n",
    "\n",
    "df_cw.style.pipe(pretty)\n",
    "\n"
   ]
  },
  {
   "cell_type": "code",
   "execution_count": null,
   "id": "6f2f8957-210f-4fa5-9947-659e9a0750a1",
   "metadata": {},
   "outputs": [],
   "source": []
  }
 ],
 "metadata": {
  "kernelspec": {
   "display_name": "Python 3 (ipykernel)",
   "language": "python",
   "name": "python3"
  },
  "language_info": {
   "codemirror_mode": {
    "name": "ipython",
    "version": 3
   },
   "file_extension": ".py",
   "mimetype": "text/x-python",
   "name": "python",
   "nbconvert_exporter": "python",
   "pygments_lexer": "ipython3",
   "version": "3.13.3"
  }
 },
 "nbformat": 4,
 "nbformat_minor": 5
}
